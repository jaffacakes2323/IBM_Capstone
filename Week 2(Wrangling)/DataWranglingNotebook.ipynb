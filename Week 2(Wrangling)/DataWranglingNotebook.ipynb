{
 "cells": [
  {
   "cell_type": "markdown",
   "metadata": {},
   "source": [
    "# **Data Wrangling Notebook**\n"
   ]
  },
  {
   "cell_type": "markdown",
   "metadata": {},
   "source": [
    "Objectives:\n",
    "\n",
    "*   Identify duplicate values in the dataset.\n",
    "\n",
    "*   Remove duplicate values from the dataset.\n",
    "\n",
    "*   Identify missing values in the dataset.\n",
    "\n",
    "*   Impute the missing values in the dataset.\n",
    "\n",
    "*   Normalize data in the dataset.\n"
   ]
  },
  {
   "cell_type": "markdown",
   "metadata": {},
   "source": [
    "<hr>\n"
   ]
  },
  {
   "cell_type": "markdown",
   "metadata": {},
   "source": [
    "Import module.\n"
   ]
  },
  {
   "cell_type": "code",
   "execution_count": 5,
   "metadata": {},
   "outputs": [],
   "source": [
    "import pandas as pd"
   ]
  },
  {
   "cell_type": "markdown",
   "metadata": {},
   "source": [
    "Load the dataset into dataframe.\n"
   ]
  },
  {
   "cell_type": "code",
   "execution_count": 6,
   "metadata": {},
   "outputs": [],
   "source": [
    "df = pd.read_csv(\"https://cf-courses-data.s3.us.cloud-object-storage.appdomain.cloud/IBM-DA0321EN-SkillsNetwork/LargeData/m1_survey_data.csv\")"
   ]
  },
  {
   "cell_type": "markdown",
   "metadata": {},
   "source": [
    "Finding how many duplicate rows exist in the dataframe."
   ]
  },
  {
   "cell_type": "code",
   "execution_count": 57,
   "metadata": {},
   "outputs": [
    {
     "name": "stdout",
     "output_type": "stream",
     "text": [
      "Dataframe contains 11552 rows\n",
      "There are 154 duplicates\n"
     ]
    }
   ],
   "source": [
    "print(f'Dataframe contains {len(df)} rows')\n",
    "duplicates = df[df.duplicated()]\n",
    "print(f'There are {len(duplicates)} duplicates')\n"
   ]
  },
  {
   "cell_type": "markdown",
   "metadata": {},
   "source": [
    "Removing the duplicate rows from the dataframe.\n"
   ]
  },
  {
   "cell_type": "code",
   "execution_count": 59,
   "metadata": {},
   "outputs": [],
   "source": [
    "new_df = df.drop_duplicates()"
   ]
  },
  {
   "cell_type": "markdown",
   "metadata": {},
   "source": [
    "Verifying if duplicates were actually dropped.\n"
   ]
  },
  {
   "cell_type": "code",
   "execution_count": 64,
   "metadata": {},
   "outputs": [
    {
     "name": "stdout",
     "output_type": "stream",
     "text": [
      "Dataframe now contains 11398 rows\n",
      "There are 0 duplicates\n"
     ]
    }
   ],
   "source": [
    "print(f'Dataframe now contains {len(new_df)} rows')\n",
    "duplicates = new_df[new_df.duplicated()]\n",
    "print(f'There are {len(duplicates)} duplicates')"
   ]
  },
  {
   "cell_type": "markdown",
   "metadata": {},
   "source": [
    "Finding the missing values for all columns.\n"
   ]
  },
  {
   "cell_type": "code",
   "execution_count": 65,
   "metadata": {},
   "outputs": [
    {
     "name": "stdout",
     "output_type": "stream",
     "text": [
      "       Respondent  MainBranch  Hobbyist  OpenSourcer  OpenSource  Employment  \\\n",
      "0           False       False     False        False       False       False   \n",
      "1           False       False     False        False       False       False   \n",
      "2           False       False     False        False       False       False   \n",
      "3           False       False     False        False       False       False   \n",
      "4           False       False     False        False       False       False   \n",
      "...           ...         ...       ...          ...         ...         ...   \n",
      "11547       False       False     False        False       False       False   \n",
      "11548       False       False     False        False       False       False   \n",
      "11549       False       False     False        False       False       False   \n",
      "11550       False       False     False        False       False       False   \n",
      "11551       False       False     False        False       False       False   \n",
      "\n",
      "       Country  Student  EdLevel  UndergradMajor  ...  WelcomeChange  \\\n",
      "0        False    False    False           False  ...          False   \n",
      "1        False    False    False           False  ...          False   \n",
      "2        False    False    False           False  ...          False   \n",
      "3        False    False    False            True  ...          False   \n",
      "4        False    False    False           False  ...          False   \n",
      "...        ...      ...      ...             ...  ...            ...   \n",
      "11547    False    False    False           False  ...          False   \n",
      "11548    False    False    False           False  ...          False   \n",
      "11549    False    False    False           False  ...          False   \n",
      "11550    False    False    False            True  ...          False   \n",
      "11551    False    False    False           False  ...          False   \n",
      "\n",
      "       SONewContent    Age  Gender  Trans  Sexuality  Ethnicity  Dependents  \\\n",
      "0             False  False   False  False      False      False       False   \n",
      "1              True  False   False  False      False      False       False   \n",
      "2             False  False   False  False      False      False       False   \n",
      "3             False  False   False  False      False      False       False   \n",
      "4             False  False   False  False      False      False       False   \n",
      "...             ...    ...     ...    ...        ...        ...         ...   \n",
      "11547         False  False   False  False      False      False       False   \n",
      "11548         False  False   False  False      False      False       False   \n",
      "11549         False  False   False  False      False      False       False   \n",
      "11550          True  False   False  False      False      False       False   \n",
      "11551         False  False   False  False      False      False       False   \n",
      "\n",
      "       SurveyLength  SurveyEase  \n",
      "0             False       False  \n",
      "1             False       False  \n",
      "2             False       False  \n",
      "3             False       False  \n",
      "4             False       False  \n",
      "...             ...         ...  \n",
      "11547         False       False  \n",
      "11548         False       False  \n",
      "11549         False       False  \n",
      "11550         False       False  \n",
      "11551         False       False  \n",
      "\n",
      "[11398 rows x 85 columns]\n"
     ]
    }
   ],
   "source": [
    "missing_data = new_df.isnull()\n",
    "print(missing_data)"
   ]
  },
  {
   "cell_type": "markdown",
   "metadata": {},
   "source": [
    "Finding out how many rows are missing in the column 'WorkLoc'\n"
   ]
  },
  {
   "cell_type": "code",
   "execution_count": 66,
   "metadata": {},
   "outputs": [
    {
     "name": "stdout",
     "output_type": "stream",
     "text": [
      "Missing data: 32\n"
     ]
    }
   ],
   "source": [
    "x = 0 \n",
    "for row in missing_data['WorkLoc']:\n",
    "    if row == True:\n",
    "        x += 1\n",
    "print(f'Missing data: {x}')"
   ]
  },
  {
   "cell_type": "markdown",
   "metadata": {},
   "source": [
    "We need to now impute the missing values.\n",
    "\n",
    "First, find the  value counts for the column WorkLoc.\n"
   ]
  },
  {
   "cell_type": "code",
   "execution_count": 67,
   "metadata": {},
   "outputs": [
    {
     "data": {
      "text/plain": [
       "Office                                            6806\n",
       "Home                                              3589\n",
       "Other place, such as a coworking space or cafe     971\n",
       "Name: WorkLoc, dtype: int64"
      ]
     },
     "execution_count": 67,
     "metadata": {},
     "output_type": "execute_result"
    }
   ],
   "source": [
    "new_df['WorkLoc'].value_counts()"
   ]
  },
  {
   "cell_type": "markdown",
   "metadata": {},
   "source": [
    "Identify the value that is most frequent in the WorkLoc column, an then pop in a variable for future reference.\n"
   ]
  },
  {
   "cell_type": "code",
   "execution_count": 73,
   "metadata": {},
   "outputs": [],
   "source": [
    "new_df['WorkLoc'].describe()\n",
    "most_frequent = 'Office'"
   ]
  },
  {
   "cell_type": "markdown",
   "metadata": {},
   "source": [
    "Imputing all the empty rows in WorkLoc with most frequent value.\n"
   ]
  },
  {
   "cell_type": "code",
   "execution_count": 69,
   "metadata": {},
   "outputs": [
    {
     "name": "stderr",
     "output_type": "stream",
     "text": [
      "/var/folders/gl/vtmfpjnn42b_kzpgqwhnxrrw0000gn/T/ipykernel_3362/3366832723.py:2: SettingWithCopyWarning: \n",
      "A value is trying to be set on a copy of a slice from a DataFrame\n",
      "\n",
      "See the caveats in the documentation: https://pandas.pydata.org/pandas-docs/stable/user_guide/indexing.html#returning-a-view-versus-a-copy\n",
      "  new_df['WorkLoc'].fillna(most_frequent, inplace=True)\n"
     ]
    }
   ],
   "source": [
    "new_df['WorkLoc'].fillna(most_frequent, inplace=True)"
   ]
  },
  {
   "cell_type": "markdown",
   "metadata": {},
   "source": [
    "Verify if imputing was successful.\n"
   ]
  },
  {
   "cell_type": "code",
   "execution_count": 70,
   "metadata": {},
   "outputs": [
    {
     "name": "stdout",
     "output_type": "stream",
     "text": [
      "Missing data: 0\n"
     ]
    }
   ],
   "source": [
    "# your code goes here\n",
    "missing_data = new_df.isnull()\n",
    "y = 0\n",
    "for row in missing_data['WorkLoc']:\n",
    "    if row == True:\n",
    "        y += 1\n",
    "print(f'Missing data: {y}')"
   ]
  },
  {
   "cell_type": "markdown",
   "metadata": {},
   "source": [
    "'There are two columns in the dataset that talk about compensation.\n",
    "\n",
    "One is \"CompFreq\". This column shows how often a developer is paid (Yearly, Monthly, Weekly).\n",
    "\n",
    "The other is \"CompTotal\". This column talks about how much the developer is paid per Year, Month, or Week depending upon his/her \"CompFreq\".\n",
    "\n",
    "This makes it difficult to compare the total compensation of the developers.\n",
    "\n",
    "In this section you will create a new column called 'NormalizedAnnualCompensation' which contains the 'Annual Compensation' irrespective of the 'CompFreq'.\n",
    "\n",
    "Once this column is ready, it makes comparison of salaries easy.' - Assignment instructions\n"
   ]
  },
  {
   "cell_type": "markdown",
   "metadata": {},
   "source": [
    "<hr>\n"
   ]
  },
  {
   "cell_type": "markdown",
   "metadata": {},
   "source": [
    "Using value_counts() to list the various categories in 'CompFreq'\n"
   ]
  },
  {
   "cell_type": "code",
   "execution_count": 71,
   "metadata": {},
   "outputs": [
    {
     "data": {
      "text/plain": [
       "Yearly     6073\n",
       "Monthly    4788\n",
       "Weekly      331\n",
       "Name: CompFreq, dtype: int64"
      ]
     },
     "execution_count": 71,
     "metadata": {},
     "output_type": "execute_result"
    }
   ],
   "source": [
    "new_df['CompFreq'].value_counts()"
   ]
  },
  {
   "cell_type": "markdown",
   "metadata": {},
   "source": [
    "Creating a new column called 'NormalizedAnnualCompensation'\n"
   ]
  },
  {
   "cell_type": "code",
   "execution_count": 72,
   "metadata": {},
   "outputs": [
    {
     "name": "stdout",
     "output_type": "stream",
     "text": [
      "100000.0\n"
     ]
    },
    {
     "name": "stderr",
     "output_type": "stream",
     "text": [
      "/var/folders/gl/vtmfpjnn42b_kzpgqwhnxrrw0000gn/T/ipykernel_3362/3645812656.py:15: SettingWithCopyWarning: \n",
      "A value is trying to be set on a copy of a slice from a DataFrame.\n",
      "Try using .loc[row_indexer,col_indexer] = value instead\n",
      "\n",
      "See the caveats in the documentation: https://pandas.pydata.org/pandas-docs/stable/user_guide/indexing.html#returning-a-view-versus-a-copy\n",
      "  new_df['NormalizedAnnualCompensation'] = annual_compensation\n"
     ]
    }
   ],
   "source": [
    "annual_compensation = []\n",
    "\n",
    "for freq, total in zip(new_df['CompFreq'], new_df['CompTotal']):\n",
    "    if freq == 'Yearly':\n",
    "        annual_compensation.append(total)\n",
    "                                   \n",
    "    elif freq == 'Monthly':\n",
    "        annual_compensation.append(total * 12)\n",
    "    elif freq == 'Weekly':\n",
    "        annual_compensation.append(total * 52)\n",
    "    else:\n",
    "        annual_compensation.append(total)\n",
    "\n",
    "\n",
    "new_df['NormalizedAnnualCompensation'] = annual_compensation\n"
   ]
  }
 ],
 "metadata": {
  "kernelspec": {
   "display_name": "Python 3 (ipykernel)",
   "language": "python",
   "name": "python3"
  },
  "language_info": {
   "codemirror_mode": {
    "name": "ipython",
    "version": 3
   },
   "file_extension": ".py",
   "mimetype": "text/x-python",
   "name": "python",
   "nbconvert_exporter": "python",
   "pygments_lexer": "ipython3",
   "version": "3.9.12"
  }
 },
 "nbformat": 4,
 "nbformat_minor": 4
}
